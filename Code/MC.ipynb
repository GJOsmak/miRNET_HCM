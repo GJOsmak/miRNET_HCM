{
 "cells": [
  {
   "cell_type": "code",
   "execution_count": 248,
   "metadata": {},
   "outputs": [],
   "source": [
    "import pandas as pd\n",
    "import numpy as np\n",
    "import scipy as sp\n",
    "import miRNET, miRNET_enrichment\n",
    "Targets = miRNET.Targets(path_to_miRTarBase='./baseData/hsa_miRTarBase.csv')\n",
    "import warnings\n",
    "import collections\n",
    "from matplotlib import pyplot as plt\n",
    "import random\n",
    "from scipy.stats import chi2_contingency\n",
    "import json\n",
    "import networkx as nx"
   ]
  },
  {
   "cell_type": "code",
   "execution_count": null,
   "metadata": {},
   "outputs": [],
   "source": [
    "######################################\n",
    "##Monte Carlo for up-regulated miRNAs#\n",
    "######################################"
   ]
  },
  {
   "cell_type": "code",
   "execution_count": 291,
   "metadata": {},
   "outputs": [],
   "source": [
    "with open('./addData/miR_key_dict.json') as json_file:\n",
    "    miR_key_dict = json.load(json_file)"
   ]
  },
  {
   "cell_type": "code",
   "execution_count": null,
   "metadata": {},
   "outputs": [],
   "source": [
    "dict_for_mc = dict()\n",
    "for miR in miR_key_dict.keys():\n",
    "    if 1351 > miR_key_dict[miR]['targets'] > 51:\n",
    "        if miR_key_dict[miR]['LCC'] > 5:\n",
    "            if len(miR_key_dict[miR]['key_genes']) > 5:\n",
    "                dict_for_mc[miR] = miR_key_dict[miR]"
   ]
  },
  {
   "cell_type": "code",
   "execution_count": 284,
   "metadata": {},
   "outputs": [
    {
     "name": "stdout",
     "output_type": "stream",
     "text": [
      "########################\n",
      "Counter({1: 151, 2: 33, 3: 6, 4: 2})\n",
      "########################\n",
      "########################\n",
      "Counter({1: 174, 2: 22, 4: 4, 3: 3})\n",
      "########################\n",
      "########################\n",
      "Counter({1: 270, 2: 87, 3: 19, 4: 1})\n",
      "########################\n",
      "########################\n",
      "Counter({1: 106, 2: 51, 3: 19, 4: 7, 5: 3})\n",
      "########################\n",
      "########################\n",
      "Counter({1: 322, 2: 52, 3: 17, 5: 2, 4: 2})\n",
      "########################\n",
      "########################\n",
      "Counter({1: 146, 2: 142, 3: 23, 4: 6, 5: 1})\n",
      "########################\n",
      "########################\n",
      "Counter({1: 308, 2: 84, 3: 9})\n",
      "########################\n",
      "########################\n",
      "Counter({1: 271, 2: 57, 4: 3, 3: 1})\n",
      "########################\n",
      "########################\n",
      "Counter({1: 141, 2: 52, 3: 4})\n",
      "########################\n",
      "########################\n",
      "Counter({1: 93, 2: 45, 3: 9, 4: 2})\n",
      "########################\n",
      "########################\n",
      "Counter({1: 109, 2: 73, 3: 19, 5: 5, 4: 5})\n",
      "########################\n",
      "########################\n",
      "Counter({1: 201, 2: 20, 3: 4, 5: 1, 4: 1})\n",
      "########################\n",
      "########################\n",
      "Counter({1: 137, 3: 43, 2: 42, 4: 8})\n",
      "########################\n",
      "########################\n",
      "Counter({1: 188, 2: 106, 4: 62, 3: 56, 5: 9})\n",
      "########################\n",
      "########################\n",
      "Counter({1: 191, 2: 45})\n",
      "########################\n",
      "########################\n",
      "Counter({1: 318, 2: 65, 3: 13, 4: 4, 5: 1})\n",
      "########################\n",
      "########################\n",
      "Counter({1: 191, 2: 107, 3: 33, 4: 7, 5: 4})\n",
      "########################\n",
      "########################\n",
      "Counter({1: 215, 2: 33, 3: 4, 4: 2})\n",
      "########################\n",
      "########################\n",
      "Counter({1: 211, 2: 77, 3: 22, 4: 6})\n",
      "########################\n",
      "########################\n",
      "Counter({1: 197, 2: 48, 3: 9, 4: 4})\n",
      "########################\n",
      "########################\n",
      "Counter({1: 106, 2: 11, 3: 5})\n",
      "########################\n",
      "########################\n",
      "Counter({1: 131, 2: 49, 3: 11, 4: 3})\n",
      "########################\n",
      "########################\n",
      "Counter({1: 155, 2: 18, 3: 12, 4: 1})\n",
      "########################\n",
      "########################\n",
      "Counter({1: 292, 2: 94, 3: 13, 4: 2})\n",
      "########################\n",
      "########################\n",
      "Counter({1: 168, 2: 45, 3: 14})\n",
      "########################\n",
      "########################\n",
      "Counter({1: 57, 2: 42, 3: 26, 4: 4})\n",
      "########################\n",
      "########################\n",
      "Counter({1: 142, 2: 23, 3: 7})\n",
      "########################\n",
      "########################\n",
      "Counter({2: 108, 1: 94, 3: 19, 4: 2})\n",
      "########################\n",
      "########################\n",
      "Counter({1: 153, 2: 27, 3: 6, 4: 2})\n",
      "########################\n",
      "########################\n",
      "Counter({1: 245, 2: 44, 3: 16, 5: 3, 4: 2})\n",
      "########################\n",
      "########################\n",
      "Counter({1: 201, 2: 13, 3: 7})\n",
      "########################\n",
      "########################\n",
      "Counter({1: 187, 2: 71, 3: 27, 4: 2})\n",
      "########################\n",
      "########################\n",
      "Counter({1: 183, 2: 24, 3: 9, 4: 1})\n",
      "########################\n",
      "########################\n",
      "Counter({1: 295, 2: 61, 3: 28, 4: 3})\n",
      "########################\n",
      "########################\n",
      "Counter({1: 199, 2: 38, 3: 8})\n",
      "########################\n",
      "########################\n",
      "Counter({1: 230, 2: 116, 3: 12, 4: 3, 5: 2})\n",
      "########################\n",
      "########################\n",
      "Counter({1: 209, 2: 111, 3: 10, 4: 7})\n",
      "########################\n",
      "########################\n",
      "Counter({1: 185, 2: 58, 3: 16, 4: 11, 5: 1})\n",
      "########################\n",
      "########################\n",
      "Counter({1: 296, 2: 63, 3: 17, 4: 7, 5: 4})\n",
      "########################\n",
      "########################\n",
      "Counter({1: 104, 2: 57, 3: 22, 4: 5})\n",
      "########################\n",
      "########################\n",
      "Counter({1: 168, 2: 22, 4: 4, 5: 3, 3: 3})\n",
      "########################\n",
      "########################\n",
      "Counter({1: 131, 2: 22, 3: 3})\n",
      "########################\n",
      "########################\n",
      "Counter({1: 318, 2: 57, 3: 18})\n",
      "########################\n",
      "########################\n",
      "Counter({1: 124, 2: 55, 3: 2})\n",
      "########################\n",
      "########################\n",
      "Counter({1: 164, 2: 90, 3: 12, 4: 3})\n",
      "########################\n",
      "########################\n",
      "Counter({1: 239, 2: 112, 3: 26, 4: 3})\n",
      "########################\n",
      "########################\n",
      "Counter({1: 210, 2: 107, 3: 39, 4: 22, 5: 4, 6: 1})\n",
      "########################\n",
      "########################\n",
      "Counter({1: 149, 2: 20, 4: 5, 3: 4, 5: 2})\n",
      "########################\n",
      "########################\n",
      "Counter({1: 165, 2: 36, 3: 3, 4: 1})\n",
      "########################\n",
      "########################\n",
      "Counter({1: 238, 2: 46, 3: 17, 4: 1})\n",
      "########################\n",
      "########################\n",
      "Counter({1: 131, 2: 39, 3: 13})\n",
      "########################\n",
      "########################\n",
      "Counter({1: 156, 2: 65, 3: 13, 5: 2, 4: 2, 6: 1})\n",
      "########################\n",
      "########################\n",
      "Counter({1: 90, 2: 27, 3: 6})\n",
      "########################\n",
      "########################\n",
      "Counter({1: 132, 2: 44, 3: 20, 4: 6})\n",
      "########################\n",
      "########################\n",
      "Counter({1: 185, 2: 38, 3: 4})\n",
      "########################\n",
      "########################\n",
      "Counter({1: 213, 2: 40, 3: 22, 4: 8})\n",
      "########################\n",
      "########################\n",
      "Counter({1: 109, 2: 31, 3: 14})\n",
      "########################\n",
      "########################\n",
      "Counter({1: 139, 2: 49, 3: 7})\n",
      "########################\n",
      "########################\n",
      "Counter({1: 88, 2: 44, 3: 36, 4: 28, 5: 4})\n",
      "########################\n",
      "########################\n",
      "Counter({1: 208, 2: 27, 3: 8, 5: 4, 4: 4})\n",
      "########################\n",
      "########################\n",
      "Counter({1: 94, 2: 23, 3: 12, 4: 7})\n",
      "########################\n",
      "########################\n",
      "Counter({1: 253, 2: 52, 3: 9, 4: 2, 5: 1})\n",
      "########################\n",
      "########################\n",
      "Counter({1: 184, 2: 33, 3: 11})\n",
      "########################\n",
      "########################\n",
      "Counter({1: 201, 2: 195, 3: 32, 4: 1})\n",
      "########################\n",
      "########################\n",
      "Counter({1: 164, 2: 47, 3: 11, 5: 2, 4: 2})\n",
      "########################\n",
      "########################\n",
      "Counter({1: 125, 2: 48, 3: 9, 4: 2})\n",
      "########################\n",
      "########################\n",
      "Counter({1: 250, 2: 82, 3: 12, 4: 7, 5: 1})\n",
      "########################\n",
      "########################\n",
      "Counter({1: 143, 2: 33, 3: 9, 4: 4})\n",
      "########################\n",
      "########################\n",
      "Counter({1: 167, 2: 50, 3: 22, 4: 7})\n",
      "########################\n",
      "########################\n",
      "Counter({1: 271, 2: 120, 3: 21})\n",
      "########################\n"
     ]
    }
   ],
   "source": [
    "n_miRNA = 8\n",
    "n_iter = 100\n",
    "\n",
    "\n",
    "result_df = pd.DataFrame(columns=['count'], data=[0, 1, 2, 3, 4, 5, 6, 7, 8])\n",
    "tis_gene_set = miRNET.tissue_selector(ans=0, tissue_id=23)\n",
    "\n",
    "for _ in range(n_iter):\n",
    "    list_paths = list()\n",
    "    \n",
    "    for i in range(n_miRNA):\n",
    "        miR = random.choice(list(dict_for_mc.keys()))\n",
    "        key_genes = dict_for_mc[miR]['key_genes']  # key nodes extraction\n",
    "        enrich_res = miRNET_enrichment.reactome_enrichment(key_genes, species='Homo sapiens')\n",
    "        enrich_res = miRNET_enrichment.reac_pars(enrich_res)\n",
    "        list_paths = list_paths + list(enrich_res.react_dict.keys())\n",
    "\n",
    "    count_dict = collections.Counter(collections.Counter(list_paths).values())\n",
    "    print('########################')\n",
    "    print(count_dict)\n",
    "    print('########################')\n",
    "    add_col = pd.DataFrame.from_dict(count_dict, orient='index', columns=['count'])\n",
    "    result_df = pd.concat([result_df, add_col], axis=1)"
   ]
  },
  {
   "cell_type": "code",
   "execution_count": 290,
   "metadata": {},
   "outputs": [
    {
     "name": "stdout",
     "output_type": "stream",
     "text": [
      "178.58415841584159 53.81188118811881 13.910891089108912 3.8514851485148514 0.693069306930693\n"
     ]
    }
   ],
   "source": [
    "print(*list(result_df.fillna(0).mean(axis=1)[1:6]))"
   ]
  },
  {
   "cell_type": "code",
   "execution_count": 287,
   "metadata": {},
   "outputs": [
    {
     "name": "stdout",
     "output_type": "stream",
     "text": [
      "Power_divergenceResult(statistic=43.15389602846323, pvalue=9.614258039354339e-09)\n"
     ]
    }
   ],
   "source": [
    "up_vector = {1: 137, 2: 31, 3: 31, 4: 5, 5: 2}\n",
    "print(sp.stats.chisquare(list(up_vector.values()), list(result_df.fillna(0).mean(axis=1)[1:6])))"
   ]
  },
  {
   "cell_type": "code",
   "execution_count": null,
   "metadata": {},
   "outputs": [],
   "source": [
    "####\n",
    "#MC\n",
    "####"
   ]
  },
  {
   "cell_type": "code",
   "execution_count": 17,
   "metadata": {},
   "outputs": [],
   "source": [
    "dict_for_mc = dict()\n",
    "for miR in miR_key_dict.keys():\n",
    "    if 1351 > miR_key_dict[miR]['targets'] > 51:\n",
    "        if miR_key_dict[miR]['LCC'] > 100:\n",
    "            if len(miR_key_dict[miR]['key_genes']) > 26:\n",
    "                dict_for_mc[miR] = miR_key_dict[miR]"
   ]
  },
  {
   "cell_type": "code",
   "execution_count": 94,
   "metadata": {},
   "outputs": [
    {
     "name": "stdout",
     "output_type": "stream",
     "text": [
      "first_prob: 0.0886339937434828\n",
      "probs: 0.125\n"
     ]
    },
    {
     "data": {
      "image/png": "[encoded data removed]",
      "text/plain": [
       "<Figure size 432x288 with 1 Axes>"
      ]
     },
     "metadata": {
      "needs_background": "light"
     },
     "output_type": "display_data"
    }
   ],
   "source": [
    "n_miRNA = 2\n",
    "n_iter = 1000\n",
    "\n",
    "probs = list()\n",
    "probs_first = list()\n",
    "\n",
    "for _ in range(n_iter):\n",
    "    prob = 0\n",
    "    key_genes = list()\n",
    "    check = 0\n",
    "    miR_1 = random.choice(list(dict_for_mc.keys()))\n",
    "    miR_2 = random.choice(list(dict_for_mc.keys()))\n",
    "    if miR_1 == miR_2:\n",
    "        continue\n",
    "\n",
    "    key_genes = [dict_for_mc[miR_1]['key_genes'], dict_for_mc[miR_2]['key_genes']]\n",
    "    \n",
    "    prob = len(set(key_genes[0]).intersection(set(key_genes[1])))/min([len(key_genes[0]), len(key_genes[1])])\n",
    "    probs_first.append(key_genes[0][0] == key_genes[1][0])\n",
    "    probs.append(prob)\n",
    "\n",
    "plt.hist(probs)\n",
    "plt.axvline(np.median(probs), c='red')\n",
    "print('first_prob:', sum(probs_first)/len(probs_first))\n",
    "print('probs:', np.median(probs))"
   ]
  },
  {
   "cell_type": "code",
   "execution_count": 105,
   "metadata": {},
   "outputs": [],
   "source": [
    "n_miRNA = 2\n",
    "n_iter = 1000\n",
    "\n",
    "probs = list()\n",
    "for _ in range(n_iter):\n",
    "    probs_first = list()\n",
    "    for _ in range(n_iter):\n",
    "        prob = 0\n",
    "        key_genes = list()\n",
    "        check = 0\n",
    "        miR_1 = random.choice(list(dict_for_mc.keys()))\n",
    "        miR_2 = random.choice(list(dict_for_mc.keys()))\n",
    "        if miR_1 == miR_2:\n",
    "            continue\n",
    "        key_genes = [dict_for_mc[miR_1]['key_genes'], dict_for_mc[miR_2]['key_genes']]\n",
    "        probs_first.append(key_genes[0][0] == key_genes[1][0])\n",
    "    probs.append(sum(probs_first)/len(probs_first))"
   ]
  },
  {
   "cell_type": "code",
   "execution_count": 107,
   "metadata": {},
   "outputs": [
    {
     "name": "stdout",
     "output_type": "stream",
     "text": [
      "[0.06995649 0.10689327]\n"
     ]
    },
    {
     "data": {
      "image/png": "[encoded data removed]",
      "text/plain": [
       "<Figure size 432x288 with 1 Axes>"
      ]
     },
     "metadata": {
      "needs_background": "light"
     },
     "output_type": "display_data"
    }
   ],
   "source": [
    "plt.hist(probs)\n",
    "print(np.percentile(probs, [2.5, 97.5]))"
   ]
  },
  {
   "cell_type": "code",
   "execution_count": null,
   "metadata": {},
   "outputs": [],
   "source": []
  }
 ],
 "metadata": {
  "kernelspec": {
   "display_name": "Python 3",
   "language": "python",
   "name": "python3"
  },
  "language_info": {
   "codemirror_mode": {
    "name": "ipython",
    "version": 3
   },
   "file_extension": ".py",
   "mimetype": "text/x-python",
   "name": "python",
   "nbconvert_exporter": "python",
   "pygments_lexer": "ipython3",
   "version": "3.7.6"
  }
 },
 "nbformat": 4,
 "nbformat_minor": 4
}
