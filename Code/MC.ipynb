{
 "cells": [
  {
   "cell_type": "code",
   "execution_count": 1,
   "metadata": {},
   "outputs": [],
   "source": [
    "import pandas as pd\n",
    "import numpy as np\n",
    "import scipy as sp\n",
    "import miRNET, miRNET_enrichment\n",
    "Targets = miRNET.Targets(path_to_miRTarBase='./baseData/hsa_miRTarBase.csv')\n",
    "import warnings\n",
    "import collections\n",
    "from matplotlib import pyplot as plt\n",
    "import random\n",
    "from scipy.stats import chi2_contingency\n",
    "import json\n",
    "import networkx as nx"
   ]
  },
  {
   "cell_type": "code",
   "execution_count": 2,
   "metadata": {},
   "outputs": [],
   "source": [
    "######################################\n",
    "##Monte Carlo for up-regulated miRNAs#\n",
    "######################################"
   ]
  },
  {
   "cell_type": "code",
   "execution_count": 3,
   "metadata": {},
   "outputs": [],
   "source": [
    "with open('./addData/miR_key_dict.json') as json_file:\n",
    "    miR_key_dict = json.load(json_file)\n",
    "\n",
    "with open('./addData/miR_path_dict.json') as json_file:\n",
    "    dict_miR_to_paths = json.load(json_file)"
   ]
  },
  {
   "cell_type": "code",
   "execution_count": 43,
   "metadata": {},
   "outputs": [],
   "source": [
    "data_edges = pd.read_csv('../miRNAs_pathes_bigraphs/up_bigraph_edge.csv', sep=';')\n",
    "\n",
    "bi_g = nx.from_pandas_edgelist(data_edges, source='miR', target='path')\n",
    "if not nx.is_connected(bi_g):\n",
    "    bi_g = sorted(nx.connected_component_subgraphs(bi_g), key=len, reverse=True)[0]\n",
    "\n",
    "degr_cnt = dict(bi_g.degree)\n",
    "degr_cnt = dict(sorted(degr_cnt.items(), key=lambda item: item[1], reverse=True))\n",
    "\n",
    "keys = list(degr_cnt.keys())\n",
    "for key in keys:\n",
    "    if 'miR-' in key:\n",
    "        degr_cnt.pop(key)\n",
    "\n",
    "count = collections.Counter(degr_cnt.values())\n",
    "\n",
    "#n_miRNA: n_pathway; ex: 1 miRNA target 216 patways\n",
    "net_count = dict(sorted(count.items(), key=lambda item: item[1], reverse=True))"
   ]
  },
  {
   "cell_type": "code",
   "execution_count": 4,
   "metadata": {},
   "outputs": [],
   "source": [
    "dict_for_mc = dict()\n",
    "for miR in miR_key_dict.keys():\n",
    "    if 1351 > miR_key_dict[miR]['targets'] > 51:\n",
    "        if miR_key_dict[miR]['LCC'] > 5:\n",
    "            if len(miR_key_dict[miR]['key_genes']) > 5:\n",
    "                dict_for_mc[miR] = miR_key_dict[miR]"
   ]
  },
  {
   "cell_type": "code",
   "execution_count": 115,
   "metadata": {},
   "outputs": [],
   "source": [
    "n_miRNA = 12\n",
    "n_iter = 100\n",
    "n_ex_iter = 100\n",
    "\n",
    "result_df = pd.DataFrame(columns=['count'], data=[i for i in range(n_miRNA+1)])\n",
    "\n",
    "ex_result = list()\n",
    "seed = 1\n",
    "for j in range(n_ex_iter):\n",
    "    \n",
    "    result_df = pd.DataFrame(columns=['count'], data=[i for i in range(n_miRNA+1)])\n",
    "\n",
    "    for i in range(n_iter):\n",
    "        np.random.seed(seed)\n",
    "        seed += 1\n",
    "        miR_set = np.random.choice(list(dict_for_mc.keys()), size=n_miRNA)\n",
    "\n",
    "        list_paths = list()\n",
    "        for miR in miR_set:\n",
    "            list_paths = list_paths + dict_miR_to_paths[miR]\n",
    "\n",
    "        count_dict = collections.Counter(collections.Counter(list_paths).values())\n",
    "\n",
    "        add_col = pd.DataFrame.from_dict(count_dict, orient='index', columns=['count'])\n",
    "        result_df = pd.concat([result_df, add_col], axis=1)\n",
    "        \n",
    "    ex_result.append(list(result_df.iloc[:,1:].mean(axis=1)))"
   ]
  },
  {
   "cell_type": "code",
   "execution_count": 151,
   "metadata": {},
   "outputs": [
    {
     "name": "stdout",
     "output_type": "stream",
     "text": [
      "perc:\t2.5\t50\t97.5\n",
      "1\t179.86\t194.96\t205.44\n",
      "2\t82.52\t88.7\t99.72\n",
      "3\t35.4\t40.48\t45.28\n",
      "4\t14.54\t16.81\t18.94\n",
      "5\t5.74\t6.89\t8.7\n",
      "6\t2.83\t3.62\t4.9\n",
      "7\t1.79\t2.49\t3.81\n"
     ]
    }
   ],
   "source": [
    "result = pd.DataFrame(np.matrix(ex_result))\n",
    "percentile = (2.5, 50, 97.5)\n",
    "print('perc:', *percentile, sep='\\t')\n",
    "for i in range(1,8):\n",
    "    print(i, *np.percentile(result.iloc[:,i], percentile).round(2), sep='\\t')"
   ]
  },
  {
   "cell_type": "code",
   "execution_count": 161,
   "metadata": {},
   "outputs": [
    {
     "name": "stdout",
     "output_type": "stream",
     "text": [
      "[216  49  36  18  10   6   3]\n",
      "Power_divergenceResult(statistic=23.69209961091193, pvalue=0.0005949205289592848)\n"
     ]
    }
   ],
   "source": [
    "observed_point = np.array(list(net_count.values()))\n",
    "expected_point = np.array(list(result.iloc[:,1:].median(axis=0))[0:7])\n",
    "print(observed_point)\n",
    "print(sp.stats.chisquare(observed_point, expected_point))"
   ]
  },
  {
   "cell_type": "code",
   "execution_count": null,
   "metadata": {},
   "outputs": [],
   "source": []
  }
 ],
 "metadata": {
  "kernelspec": {
   "display_name": "Python 3",
   "language": "python",
   "name": "python3"
  },
  "language_info": {
   "codemirror_mode": {
    "name": "ipython",
    "version": 3
   },
   "file_extension": ".py",
   "mimetype": "text/x-python",
   "name": "python",
   "nbconvert_exporter": "python",
   "pygments_lexer": "ipython3",
   "version": "3.7.6"
  }
 },
 "nbformat": 4,
 "nbformat_minor": 4
}
