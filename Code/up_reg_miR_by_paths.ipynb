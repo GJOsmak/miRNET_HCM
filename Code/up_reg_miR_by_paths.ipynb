{
 "cells": [
  {
   "cell_type": "code",
   "execution_count": 3,
   "metadata": {},
   "outputs": [
    {
     "ename": "ModuleNotFoundError",
     "evalue": "No module named 'miRNET'",
     "output_type": "error",
     "traceback": [
      "\u001b[0;31m---------------------------------------------------------------------------\u001b[0m",
      "\u001b[0;31mModuleNotFoundError\u001b[0m                       Traceback (most recent call last)",
      "\u001b[0;32m<ipython-input-3-90c5060f7dc1>\u001b[0m in \u001b[0;36m<module>\u001b[0;34m\u001b[0m\n\u001b[1;32m      2\u001b[0m \u001b[0;32mimport\u001b[0m \u001b[0mnumpy\u001b[0m \u001b[0;32mas\u001b[0m \u001b[0mnp\u001b[0m\u001b[0;34m\u001b[0m\u001b[0;34m\u001b[0m\u001b[0m\n\u001b[1;32m      3\u001b[0m \u001b[0;32mimport\u001b[0m \u001b[0mscipy\u001b[0m \u001b[0;32mas\u001b[0m \u001b[0msp\u001b[0m\u001b[0;34m\u001b[0m\u001b[0;34m\u001b[0m\u001b[0m\n\u001b[0;32m----> 4\u001b[0;31m \u001b[0;32mimport\u001b[0m \u001b[0mmiRNET\u001b[0m\u001b[0;34m,\u001b[0m \u001b[0mmiRNET_enrichment\u001b[0m\u001b[0;34m\u001b[0m\u001b[0;34m\u001b[0m\u001b[0m\n\u001b[0m\u001b[1;32m      5\u001b[0m \u001b[0mTargets\u001b[0m \u001b[0;34m=\u001b[0m \u001b[0mmiRNET\u001b[0m\u001b[0;34m.\u001b[0m\u001b[0mTargets\u001b[0m\u001b[0;34m(\u001b[0m\u001b[0mpath_to_miRTarBase\u001b[0m\u001b[0;34m=\u001b[0m\u001b[0;34m'./baseData/hsa_miRTarBase.csv'\u001b[0m\u001b[0;34m)\u001b[0m\u001b[0;34m\u001b[0m\u001b[0;34m\u001b[0m\u001b[0m\n\u001b[1;32m      6\u001b[0m \u001b[0;32mimport\u001b[0m \u001b[0mwarnings\u001b[0m\u001b[0;34m\u001b[0m\u001b[0;34m\u001b[0m\u001b[0m\n",
      "\u001b[0;31mModuleNotFoundError\u001b[0m: No module named 'miRNET'"
     ]
    }
   ],
   "source": [
    "import pandas as pd\n",
    "import numpy as np\n",
    "import scipy as sp\n",
    "import miRNET, miRNET_enrichment\n",
    "Targets = miRNET.Targets(path_to_miRTarBase='./baseData/hsa_miRTarBase.csv')\n",
    "import warnings\n",
    "import collections\n",
    "from matplotlib import pyplot as plt\n",
    "import random\n",
    "from scipy.stats import chi2_contingency\n",
    "import json\n",
    "import networkx as nx"
   ]
  },
  {
   "cell_type": "code",
   "execution_count": null,
   "metadata": {},
   "outputs": [],
   "source": [
    "####################\n",
    "#up-regulated mIRNA#\n",
    "####################"
   ]
  },
  {
   "cell_type": "code",
   "execution_count": 2,
   "metadata": {},
   "outputs": [
    {
     "ename": "NameError",
     "evalue": "name 'json' is not defined",
     "output_type": "error",
     "traceback": [
      "\u001b[0;31m---------------------------------------------------------------------------\u001b[0m",
      "\u001b[0;31mNameError\u001b[0m                                 Traceback (most recent call last)",
      "\u001b[0;32m<ipython-input-2-8329292d88f0>\u001b[0m in \u001b[0;36m<module>\u001b[0;34m\u001b[0m\n\u001b[1;32m      1\u001b[0m \u001b[0;32mwith\u001b[0m \u001b[0mopen\u001b[0m\u001b[0;34m(\u001b[0m\u001b[0;34m'./Supl/miRNAs_key_genes/up_miRNAs_key_genes_dict.json'\u001b[0m\u001b[0;34m)\u001b[0m \u001b[0;32mas\u001b[0m \u001b[0mjson_file\u001b[0m\u001b[0;34m:\u001b[0m\u001b[0;34m\u001b[0m\u001b[0;34m\u001b[0m\u001b[0m\n\u001b[0;32m----> 2\u001b[0;31m     \u001b[0mup_dict\u001b[0m \u001b[0;34m=\u001b[0m \u001b[0mjson\u001b[0m\u001b[0;34m.\u001b[0m\u001b[0mload\u001b[0m\u001b[0;34m(\u001b[0m\u001b[0mjson_file\u001b[0m\u001b[0;34m)\u001b[0m\u001b[0;34m\u001b[0m\u001b[0;34m\u001b[0m\u001b[0m\n\u001b[0m",
      "\u001b[0;31mNameError\u001b[0m: name 'json' is not defined"
     ]
    }
   ],
   "source": [
    "with open('./Supl/miRNAs_key_genes/up_miRNAs_key_genes_dict.json') as json_file:\n",
    "    up_dict = json.load(json_file)"
   ]
  },
  {
   "cell_type": "code",
   "execution_count": 212,
   "metadata": {},
   "outputs": [],
   "source": [
    "def grep_target_gene_by_paths(miR_names, miR_dict, Reactome_ID):\n",
    "    target_gene = list()\n",
    "    for miR in miR_names:\n",
    "        target_gene += miR_dict[miR]\n",
    "    \n",
    "    enrich_res = miRNET_enrichment.reactome_enrichment(target_gene, species='Homo sapiens')\n",
    "    enrich_res = miRNET_enrichment.reac_pars(enrich_res)\n",
    "    G_enrich = miRNET_enrichment.get_net(enrich_res) #граф сигнальных путей\n",
    "    reactome_df = miRNET_enrichment.dendro_reactome_to_pandas(enrich_res, G_enrich)\n",
    "    \n",
    "    pathway_genes = reactome_df.loc[reactome_df.iloc[:,0] == Reactome_ID,].iloc[0,12]\n",
    "    \n",
    "    miR_target_pathway_dict = dict((key,[]) for key in miR_names)\n",
    "    for miR in miR_names:\n",
    "        for gene in miR_dict[miR]:\n",
    "            if gene in pathway_genes:\n",
    "                miR_target_pathway_dict[miR].append(gene)\n",
    "    \n",
    "    return miR_target_pathway_dict"
   ]
  },
  {
   "cell_type": "code",
   "execution_count": 215,
   "metadata": {},
   "outputs": [],
   "source": [
    "TGF_b_miRs = ['miR-93-', 'miR-222-', 'miR-29a-', 'miR-451a', 'miR-497-']\n",
    "VEGF_miRs = ['miR-221-', 'miR-133a-', 'miR-199a-3p']\n",
    "\n",
    "\n",
    "TGFb_miR_gene = grep_target_gene_by_paths(TGF_b_miRs, up_dict, 'R-HSA-2173793')\n",
    "VEGF_miR_gene = grep_target_gene_by_paths(VEGF_miRs, up_dict, 'R-HSA-194138')"
   ]
  },
  {
   "cell_type": "code",
   "execution_count": 237,
   "metadata": {},
   "outputs": [],
   "source": [
    "def dict_to_edge_table(dct):\n",
    "    res_df = pd.DataFrame(columns=['miR', 'target'])\n",
    "    for key in dct.keys():\n",
    "        for elm in dct[key]:\n",
    "            res_df = pd.concat([res_df, pd.DataFrame(list(zip([key], [elm])), columns=['miR', 'target'])])\n",
    "    return res_df"
   ]
  },
  {
   "cell_type": "code",
   "execution_count": 240,
   "metadata": {},
   "outputs": [],
   "source": [
    "dict_to_edge_table(TGFb_miR_gene).to_csv('./edge_mIR_TGF.csv',index=False, index_label=False, sep=',')\n",
    "dict_to_edge_table(VEGF_miR_gene).to_csv('./edge_mIR_VEGF.csv',index=False, index_label=False, sep=',')"
   ]
  },
  {
   "cell_type": "code",
   "execution_count": null,
   "metadata": {},
   "outputs": [],
   "source": []
  }
 ],
 "metadata": {
  "kernelspec": {
   "display_name": "Python 3",
   "language": "python",
   "name": "python3"
  },
  "language_info": {
   "codemirror_mode": {
    "name": "ipython",
    "version": 3
   },
   "file_extension": ".py",
   "mimetype": "text/x-python",
   "name": "python",
   "nbconvert_exporter": "python",
   "pygments_lexer": "ipython3",
   "version": "3.7.6"
  }
 },
 "nbformat": 4,
 "nbformat_minor": 4
}
