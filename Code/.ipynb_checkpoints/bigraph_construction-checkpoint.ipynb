{
 "cells": [
  {
   "cell_type": "code",
   "execution_count": 248,
   "metadata": {},
   "outputs": [],
   "source": [
    "import pandas as pd\n",
    "import numpy as np\n",
    "import scipy as sp\n",
    "import miRNET, miRNET_enrichment\n",
    "Targets = miRNET.Targets(path_to_miRTarBase='./baseData/hsa_miRTarBase.csv')\n",
    "import warnings\n",
    "import collections\n",
    "from matplotlib import pyplot as plt\n",
    "import random\n",
    "from scipy.stats import chi2_contingency\n",
    "import json\n",
    "import networkx as nx"
   ]
  },
  {
   "cell_type": "code",
   "execution_count": 53,
   "metadata": {},
   "outputs": [],
   "source": [
    "miRnames_up = ['miR-221-', 'miR-451a', 'miR-451b', 'miR-222-', 'miR-29a-', 'miR-133a-', 'miR-199a-3p', 'miR-93-', 'miR-497-']"
   ]
  },
  {
   "cell_type": "code",
   "execution_count": 263,
   "metadata": {},
   "outputs": [],
   "source": [
    "def mir_list_to_target_list(miR_names):\n",
    "    colnames = ['miR', 'n_targets', 'n_heart_targets', 'n_LCC', 'n_key_genes']\n",
    "    table = pd.DataFrame(columns=colnames)\n",
    "    miR_key_nodes = dict()\n",
    "    for miR in miR_names:\n",
    "        print('miR-name:', miR, sep=' ')\n",
    "        miR_targets = Targets.get_targets(miR)\n",
    "        if miR_targets == 1:\n",
    "            warnings.warn('use another name')\n",
    "            continue\n",
    "        tis_gene_set = miRNET.tissue_selector(ans=0, tissue_id=23)\n",
    "        MirNet = miRNET.MainNet() #Load String db and create gene-gene interaction network\n",
    "        MirNet.get_LCC() #get the largest connected component from the network\n",
    "        MirNet.select_nodes(miR_targets) # select the part of LCC containing only the miRNA target genes\n",
    "        MirNet.select_nodes(tis_gene_set) # select the part of LCC containing only the tissue target genes\n",
    "        kne = miRNET.KeyNodesExtractor(MirNet) # creating an object for extracting key nodes and storing their meta information\n",
    "        miR_key_nodes[miR] = list(kne.extraction()) #key nodes extraction\n",
    "        \n",
    "        print()\n",
    "        \n",
    "        nx.to_pandas_edgelist(MirNet.LCC).to_csv('./Supl/edge_list_' + miR + '.csv', index=False, index_label=False)\n",
    "        row = [miR]\n",
    "        row.append(len(miR_targets))\n",
    "        row.append(len(tis_gene_set.intersection(miR_targets)))\n",
    "        row.append(len(MirNet.LCC.nodes()))\n",
    "        row.append(len(miR_key_nodes[miR]))\n",
    "        \n",
    "        row = pd.DataFrame(row).transpose()\n",
    "        row.columns = colnames\n",
    "\n",
    "        table = pd.concat([table, row], axis=0)\n",
    "    return [miR_key_nodes, table]"
   ]
  },
  {
   "cell_type": "code",
   "execution_count": 265,
   "metadata": {},
   "outputs": [
    {
     "name": "stdout",
     "output_type": "stream",
     "text": [
      "miR-name: miR-221-\n",
      "I found a miRNA with name: hsa-miR-221-3p hsa-miR-221-5p\n",
      "and  504 unique targets\n",
      "Gene universe is...\n",
      "heart muscle was used\n",
      "your tissue is  heart muscle  number of genes:  7944\n",
      "\n",
      "miR-name: miR-451a\n",
      "I found a miRNA with name: hsa-miR-451a\n",
      "and  31 unique targets\n",
      "Gene universe is...\n",
      "heart muscle was used\n",
      "your tissue is  heart muscle  number of genes:  7944\n",
      "\n",
      "miR-name: miR-451b\n",
      "I found a miRNA with name: hsa-miR-451b\n",
      "and  150 unique targets\n",
      "Gene universe is...\n",
      "heart muscle was used\n",
      "your tissue is  heart muscle  number of genes:  7944\n",
      "\n",
      "miR-name: miR-222-\n",
      "I found a miRNA with name: hsa-miR-222-3p hsa-miR-222-5p\n",
      "and  469 unique targets\n",
      "Gene universe is...\n",
      "heart muscle was used\n",
      "your tissue is  heart muscle  number of genes:  7944\n",
      "\n",
      "miR-name: miR-29a-\n",
      "I found a miRNA with name: hsa-miR-29a-3p hsa-miR-29a-5p\n",
      "and  356 unique targets\n",
      "Gene universe is...\n",
      "heart muscle was used\n",
      "your tissue is  heart muscle  number of genes:  7944\n",
      "\n",
      "miR-name: miR-133a-\n",
      "I found a miRNA with name: hsa-miR-133a-3p hsa-miR-133a-5p\n",
      "and  172 unique targets\n",
      "Gene universe is...\n",
      "heart muscle was used\n",
      "your tissue is  heart muscle  number of genes:  7944\n",
      "\n",
      "miR-name: miR-199a-3p\n",
      "I found a miRNA with name: hsa-miR-199a-3p\n",
      "and  114 unique targets\n",
      "Gene universe is...\n",
      "heart muscle was used\n",
      "your tissue is  heart muscle  number of genes:  7944\n",
      "\n",
      "miR-name: miR-93-\n",
      "I found a miRNA with name: hsa-miR-93-5p hsa-miR-93-3p\n",
      "and  1454 unique targets\n",
      "Gene universe is...\n",
      "heart muscle was used\n",
      "your tissue is  heart muscle  number of genes:  7944\n",
      "\n",
      "miR-name: miR-497-\n",
      "I found a miRNA with name: hsa-miR-497-5p hsa-miR-497-3p\n",
      "and  559 unique targets\n",
      "Gene universe is...\n",
      "heart muscle was used\n",
      "your tissue is  heart muscle  number of genes:  7944\n",
      "\n"
     ]
    }
   ],
   "source": [
    "up_miRs = mir_list_to_target_list(miRnames_up)"
   ]
  },
  {
   "cell_type": "code",
   "execution_count": 188,
   "metadata": {},
   "outputs": [],
   "source": [
    "up_dict = up_miRs[0]"
   ]
  },
  {
   "cell_type": "code",
   "execution_count": 266,
   "metadata": {},
   "outputs": [],
   "source": [
    "with open('./Supl/up_miRNAs_key_genes_dict.json', 'w') as outfile:\n",
    "    json.dump(up_dict, outfile)"
   ]
  },
  {
   "cell_type": "code",
   "execution_count": 267,
   "metadata": {},
   "outputs": [],
   "source": [
    "def get_df_edges(enrich_res, miRname):\n",
    "    pathes = list(enrich_res.react_dict.keys())\n",
    "    miR_col = [miRname for i in range(len(pathes))]\n",
    "    return pd.DataFrame(list(zip(miR_col, pathes)), columns=['miR', 'path'])"
   ]
  },
  {
   "cell_type": "code",
   "execution_count": 268,
   "metadata": {},
   "outputs": [],
   "source": [
    "list_paths = list()\n",
    "data_edges = pd.DataFrame(columns=['miR', 'path'])\n",
    "for miR in up_dict.keys():\n",
    "    enrich_res = miRNET_enrichment.reactome_enrichment(up_dict[miR], species='Homo sapiens')\n",
    "    enrich_res = miRNET_enrichment.reac_pars(enrich_res)\n",
    "    list_paths = list_paths + list(enrich_res.react_dict.keys())\n",
    "    data_edges = pd.concat([data_edges, get_df_edges(enrich_res, miR)], axis=0)"
   ]
  },
  {
   "cell_type": "code",
   "execution_count": 270,
   "metadata": {},
   "outputs": [],
   "source": [
    "data_edges.to_csv('./Supl/up_bigraph_edge.csv', index=False, index_label=False, sep=';')"
   ]
  },
  {
   "cell_type": "code",
   "execution_count": null,
   "metadata": {},
   "outputs": [],
   "source": []
  }
 ],
 "metadata": {
  "kernelspec": {
   "display_name": "Python 3",
   "language": "python",
   "name": "python3"
  },
  "language_info": {
   "codemirror_mode": {
    "name": "ipython",
    "version": 3
   },
   "file_extension": ".py",
   "mimetype": "text/x-python",
   "name": "python",
   "nbconvert_exporter": "python",
   "pygments_lexer": "ipython3",
   "version": "3.7.6"
  }
 },
 "nbformat": 4,
 "nbformat_minor": 4
}
