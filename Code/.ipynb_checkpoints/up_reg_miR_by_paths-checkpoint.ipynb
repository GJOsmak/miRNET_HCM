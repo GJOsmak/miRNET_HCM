{
 "cells": [
  {
   "cell_type": "code",
   "execution_count": null,
   "metadata": {},
   "outputs": [],
   "source": [
    "import pandas as pd\n",
    "import numpy as np\n",
    "import scipy as sp\n",
    "import miRNET, miRNET_enrichment\n",
    "Targets = miRNET.Targets(path_to_miRTarBase='./baseData/hsa_miRTarBase.csv')\n",
    "import warnings\n",
    "import collections\n",
    "from matplotlib import pyplot as plt\n",
    "import random\n",
    "from scipy.stats import chi2_contingency\n",
    "import json\n",
    "import networkx as nx\n",
    "from requests.exceptions import ConnectionError\n",
    "import requests\n",
    "import requests\n",
    "import io\n",
    "\n",
    "def reactome_to_pandas(ReactomeRes):\n",
    "\n",
    "    url = 'https://reactome.org/AnalysisService/download/' + ReactomeRes.token + \\\n",
    "          '/pathways/TOTAL/result.csv'\n",
    "    res = requests.get(url).content\n",
    "    reactome_df = pd.read_csv(io.StringIO(res.decode('utf-8')))\n",
    "\n",
    "    return reactome_df"
   ]
  },
  {
   "cell_type": "code",
   "execution_count": null,
   "metadata": {},
   "outputs": [],
   "source": [
    "####################\n",
    "#up-regulated mIRNA#\n",
    "####################"
   ]
  },
  {
   "cell_type": "code",
   "execution_count": null,
   "metadata": {},
   "outputs": [],
   "source": [
    "with open('../miRNAs_key_genes/up_miRNAs_key_genes_dict.json') as json_file:\n",
    "    up_dict = json.load(json_file)"
   ]
  },
  {
   "cell_type": "code",
   "execution_count": null,
   "metadata": {},
   "outputs": [],
   "source": [
    "def grep_target_gene_by_paths(miR_names, miR_dict, Reactome_ID):\n",
    "    target_gene = list()\n",
    "    pathway_genes = set()\n",
    "    for miR in miR_names:\n",
    "        print(miR)\n",
    "        target_gene = miR_dict[miR]\n",
    "        enrich_res = miRNET_enrichment.reactome_enrichment(up_dict[miR], species='Homo sapiens')\n",
    "        enrich_res = miRNET_enrichment.reac_pars(enrich_res)\n",
    "        reactome_df = reactome_to_pandas(enrich_res)\n",
    "    \n",
    "        for ids in Reactome_ID:\n",
    "            mask = reactome_df.iloc[:,0] == ids\n",
    "            if sum(mask) == 0:\n",
    "                continue\n",
    "            pg = reactome_df.loc[mask,].iloc[0,12]\n",
    "            pathway_genes.update(pg.split(';'))\n",
    "            \n",
    "    miR_target_pathway_dict = dict((key,[]) for key in miR_names)\n",
    "    for miR in miR_names:\n",
    "        miR_target_pathway_dict[miR] = set(miR_dict[miR]).intersection(pathway_genes)\n",
    "    \n",
    "    return miR_target_pathway_dict"
   ]
  },
  {
   "cell_type": "code",
   "execution_count": null,
   "metadata": {},
   "outputs": [],
   "source": [
    "TGF_b_miRs = ['miR-93-5p', 'miR-222-3p', 'miR-29a-3p', 'miR-451a', 'miR-21-5p', 'miR-19b-3p', 'miR-155-5p', 'miR-221-3p']\n",
    "blue_miRs = ['miR-1-3p', 'miR-497-5p']\n",
    "purple_miRs = ['miR-199a-3p', 'miR-133a-3p']\n",
    "botle_miRs = blue_miRs + purple_miRs\n",
    "\n",
    "TGF_b_ids = ['R-HSA-170834', 'R-HSA-2173793', 'R-HSA-2173796']\n",
    "blue_ids = ['R-HSA-72202', 'R-HSA-3214858', 'R-HSA-912446', 'R-HSA-1500620']\n",
    "purple_ids = ['R-HSA-4420097', 'R-HSA-8864260', 'R-HSA-8866910', 'R-HSA-1234158', 'R-HSA-1234174', 'R-HSA-194138']\n",
    "botle_ids = ['R-HSA-2559580', 'R-HSA-8851907']\n",
    "\n",
    "TGFb_miR_genes = grep_target_gene_by_paths(TGF_b_miRs, up_dict, TGF_b_ids)\n",
    "blue_miR_genes = grep_target_gene_by_paths(blue_miRs, up_dict, blue_ids)\n",
    "purple_miR_genes = grep_target_gene_by_paths(purple_miRs, up_dict, purple_ids)\n",
    "botle_miR_genes = grep_target_gene_by_paths(botle_miRs, up_dict, botle_ids)\n"
   ]
  },
  {
   "cell_type": "code",
   "execution_count": null,
   "metadata": {},
   "outputs": [],
   "source": [
    "def dict_to_edge_table(dct):\n",
    "    res_df = pd.DataFrame(columns=['miR', 'target'])\n",
    "    for key in dct.keys():\n",
    "        for elm in dct[key]:\n",
    "            res_df = pd.concat([res_df, pd.DataFrame(list(zip([key], [elm])), columns=['miR', 'target'])])\n",
    "    return res_df"
   ]
  },
  {
   "cell_type": "code",
   "execution_count": null,
   "metadata": {},
   "outputs": [],
   "source": [
    "dict_to_edge_table(TGFb_miR_genes).to_csv('../miRNAs_key_genes_bigraphs/edge_TGFb_miR_genes.csv',index=False, index_label=False, sep=',')\n",
    "dict_to_edge_table(blue_miR_genes).to_csv('../miRNAs_key_genes_bigraphs/edge_blue_miR_genes.csv',index=False, index_label=False, sep=',')\n",
    "dict_to_edge_table(purple_miR_genes).to_csv('../miRNAs_key_genes_bigraphs/edge_purple_miR_genes.csv',index=False, index_label=False, sep=',')\n",
    "dict_to_edge_table(botle_miR_genes).to_csv('../miRNAs_key_genes_bigraphs/edge_botle_miR_genes.csv',index=False, index_label=False, sep=',')"
   ]
  },
  {
   "cell_type": "code",
   "execution_count": null,
   "metadata": {},
   "outputs": [],
   "source": []
  }
 ],
 "metadata": {
  "kernelspec": {
   "display_name": "Python 3",
   "language": "python",
   "name": "python3"
  },
  "language_info": {
   "codemirror_mode": {
    "name": "ipython",
    "version": 3
   },
   "file_extension": ".py",
   "mimetype": "text/x-python",
   "name": "python",
   "nbconvert_exporter": "python",
   "pygments_lexer": "ipython3",
   "version": "3.7.6"
  }
 },
 "nbformat": 4,
 "nbformat_minor": 4
}
